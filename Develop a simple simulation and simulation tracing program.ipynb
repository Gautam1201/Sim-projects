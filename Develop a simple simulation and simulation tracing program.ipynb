{
 "cells": [
  {
   "cell_type": "code",
   "execution_count": 5,
   "metadata": {},
   "outputs": [
    {
     "name": "stdout",
     "output_type": "stream",
     "text": [
      "Start running at 0th second\n",
      "Relax at 10th second\n",
      "Start running at 70th second\n",
      "Relax at 80th second\n",
      "Start running at 140th second\n",
      "Relax at 150th second\n",
      "Start running at 210th second\n",
      "Relax at 220th second\n",
      "Start running at 280th second\n",
      "Relax at 290th second\n",
      "Start running at 350th second\n",
      "Relax at 360th second\n",
      "Start running at 420th second\n",
      "Relax at 430th second\n",
      "Start running at 490th second\n",
      "Relax at 500th second\n",
      "Start running at 560th second\n",
      "Relax at 570th second\n",
      "Start running at 630th second\n",
      "Relax at 640th second\n",
      "\n",
      "\n",
      "Distance covered 1000 meters.\n"
     ]
    }
   ],
   "source": [
    "distance = 0\n",
    "\n",
    "def runner(env):\n",
    "    while True:\n",
    "        global distance\n",
    "        print(f'Start running at {env.now}th second')\n",
    "        distance += 100\n",
    "        yield env.timeout(10)\n",
    "        print(f'Relax at {env.now}th second')\n",
    "        yield env.timeout(60)\n",
    "        \n",
    "\n",
    "import simpy\n",
    "env = simpy.Environment()\n",
    "env.process(runner(env))\n",
    "env.run(until = 650)\n",
    "\n",
    "print('\\n')\n",
    "print(f'Distance covered {distance} meters.')"
   ]
  },
  {
   "cell_type": "code",
   "execution_count": null,
   "metadata": {},
   "outputs": [],
   "source": []
  }
 ],
 "metadata": {
  "kernelspec": {
   "display_name": "Python 3",
   "language": "python",
   "name": "python3"
  },
  "language_info": {
   "codemirror_mode": {
    "name": "ipython",
    "version": 3
   },
   "file_extension": ".py",
   "mimetype": "text/x-python",
   "name": "python",
   "nbconvert_exporter": "python",
   "pygments_lexer": "ipython3",
   "version": "3.7.3"
  }
 },
 "nbformat": 4,
 "nbformat_minor": 2
}
