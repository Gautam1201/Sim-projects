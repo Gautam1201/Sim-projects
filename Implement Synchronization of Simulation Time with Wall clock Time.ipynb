{
 "cells": [
  {
   "cell_type": "code",
   "execution_count": 1,
   "metadata": {},
   "outputs": [
    {
     "name": "stdout",
     "output_type": "stream",
     "text": [
      "Let the time to read the document be: 20\n",
      "Let the time to submit the document be: 10\n",
      "time  0 ; Wall-clock Time:  2.5700541\n",
      "Reading Document\n",
      "time  20 ; Wall-clock Time:  22.5779588\n",
      "Submitting Document \n",
      "\n",
      "time  30 ; Wall-clock Time:  32.5841264\n",
      "Reading Document\n",
      "time  50 ; Wall-clock Time:  52.5780925\n",
      "Submitting Document \n",
      "\n",
      "time  60 ; Wall-clock Time:  62.5847366\n",
      "Reading Document\n",
      "time  80 ; Wall-clock Time:  82.5750349\n",
      "Submitting Document \n",
      "\n",
      "time  90 ; Wall-clock Time:  92.5846192\n",
      "Reading Document\n",
      "time  110 ; Wall-clock Time:  112.5731492\n",
      "Submitting Document \n",
      "\n",
      "time  120 ; Wall-clock Time:  122.5863208\n",
      "Reading Document\n",
      "time  140 ; Wall-clock Time:  142.5882126\n",
      "Submitting Document \n",
      "\n",
      "time  150 ; Wall-clock Time:  152.5874757\n",
      "Reading Document\n",
      "time  170 ; Wall-clock Time:  172.5871976\n",
      "Submitting Document \n",
      "\n",
      "time  180 ; Wall-clock Time:  182.585724\n",
      "Reading Document\n",
      "time  200 ; Wall-clock Time:  202.5849586\n",
      "Submitting Document \n",
      "\n",
      "time  210 ; Wall-clock Time:  212.573223\n",
      "Reading Document\n",
      "time  230 ; Wall-clock Time:  232.5760118\n",
      "Submitting Document \n",
      "\n",
      "time  240 ; Wall-clock Time:  242.5883805\n",
      "Reading Document\n",
      "time  260 ; Wall-clock Time:  262.5800573\n",
      "Submitting Document \n",
      "\n",
      "time  270 ; Wall-clock Time:  272.595442\n",
      "Reading Document\n",
      "time  290 ; Wall-clock Time:  292.5905094\n",
      "Submitting Document \n",
      "\n"
     ]
    }
   ],
   "source": [
    "import time\n",
    "import simpy.rt\n",
    "\n",
    "def documentProcessing(env):\n",
    "    while True:\n",
    "        print(\"time \", env.now, \"; Wall-clock Time: \", time.perf_counter())\n",
    "        print(\"Reading Document\")\n",
    "        yield env.timeout(20)\n",
    "        print(\"time \", env.now, \"; Wall-clock Time: \", time.perf_counter())\n",
    "        print(\"Submitting Document \\n\")\n",
    "        yield env.timeout(10)\n",
    "\n",
    "env = simpy.rt.RealtimeEnvironment(factor = 1, strict=False)\n",
    "print(\"Let the time to read the document be: 20\")\n",
    "print(\"Let the time to submit the document be: 10\")\n",
    "\n",
    "env.process(documentProcessing(env))\n",
    "env.run(until = 300)\n"
   ]
  },
  {
   "cell_type": "code",
   "execution_count": null,
   "metadata": {},
   "outputs": [],
   "source": []
  }
 ],
 "metadata": {
  "kernelspec": {
   "display_name": "Python 3",
   "language": "python",
   "name": "python3"
  },
  "language_info": {
   "codemirror_mode": {
    "name": "ipython",
    "version": 3
   },
   "file_extension": ".py",
   "mimetype": "text/x-python",
   "name": "python",
   "nbconvert_exporter": "python",
   "pygments_lexer": "ipython3",
   "version": "3.7.3"
  }
 },
 "nbformat": 4,
 "nbformat_minor": 2
}
