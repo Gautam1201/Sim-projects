{
 "cells": [
  {
   "cell_type": "code",
   "execution_count": 2,
   "metadata": {},
   "outputs": [
    {
     "name": "stdout",
     "output_type": "stream",
     "text": [
      "(0, 0, <class 'simpy.events.Initialize'>)\n",
      "(1, 1, <class 'simpy.events.Timeout'>)\n",
      "(1, 2, <class 'simpy.events.Process'>)\n"
     ]
    }
   ],
   "source": [
    "from functools import partial, wraps\n",
    "import simpy\n",
    "\n",
    "def trace(env, callback):\n",
    "    \n",
    "    def get_wrapper(env_step, callback):\n",
    "        @wraps(env_step)\n",
    "        def tracing_step():\n",
    "            if len(env._queue):\n",
    "                t, prio, eid, event = env._queue[0]\n",
    "                callback(t, prio, eid, event)\n",
    "            return env_step()\n",
    "        return tracing_step\n",
    "    env.step = get_wrapper(env.step, callback)\n",
    "\n",
    "def monitor(data, t, prio, eid, event):\n",
    "    data.append((t, eid, type(event)))\n",
    "    \n",
    "def test_process(env):\n",
    "    yield env.timeout(1)\n",
    "    \n",
    "data = [] # Bind \"data\" as first argument to monitor()\n",
    "monitor = partial(monitor, data)\n",
    "env = simpy.Environment()\n",
    "trace(env, monitor)\n",
    "p = env.process(test_process(env))\n",
    "env.run(until=p)\n",
    "\n",
    "for d in data:\n",
    "    print(d)"
   ]
  },
  {
   "cell_type": "code",
   "execution_count": null,
   "metadata": {},
   "outputs": [],
   "source": []
  }
 ],
 "metadata": {
  "kernelspec": {
   "display_name": "Python 3",
   "language": "python",
   "name": "python3"
  },
  "language_info": {
   "codemirror_mode": {
    "name": "ipython",
    "version": 3
   },
   "file_extension": ".py",
   "mimetype": "text/x-python",
   "name": "python",
   "nbconvert_exporter": "python",
   "pygments_lexer": "ipython3",
   "version": "3.7.3"
  }
 },
 "nbformat": 4,
 "nbformat_minor": 2
}
