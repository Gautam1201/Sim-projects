{
 "cells": [
  {
   "cell_type": "code",
   "execution_count": 1,
   "metadata": {},
   "outputs": [],
   "source": [
    "import random\n",
    "from tkinter import *\n",
    "\n",
    "window = Tk()\n",
    "window.configure(bg=\"black\")\n",
    "window.geometry(\"560x560\")\n",
    "window.title(\"Traffic Light Simulation\")\n",
    "window.resizable(0, 0) # Preventing maximizing of the window\n",
    "\n",
    "index = 0\n",
    "time = 0\n",
    "def Traffic_Light():\n",
    "        global index\n",
    "        global time\n",
    "        cur_light = ['Red', \"Yellow\", \"Green\"]\n",
    "        label.configure( text = f'{cur_light[index]}\\n\\n Time: {time}')\n",
    "        label.pack()\n",
    "        index = (index + 1)%3\n",
    "        time += 1\n",
    "        \n",
    "next_button = Button(window, text=\"Next Light\",width=20, height=2,font=15, \n",
    "                     bg=\"grey\",bd=2, command=Traffic_Light)\n",
    "next_button.pack(padx=50, pady=30)  \n",
    "\n",
    "label = Label(window, font=(\"times\", 75),\n",
    "              bg=\"black\", fg=\"gold\")\n",
    "  \n",
    "window.mainloop()"
   ]
  },
  {
   "cell_type": "code",
   "execution_count": null,
   "metadata": {},
   "outputs": [],
   "source": []
  }
 ],
 "metadata": {
  "kernelspec": {
   "display_name": "Python 3",
   "language": "python",
   "name": "python3"
  },
  "language_info": {
   "codemirror_mode": {
    "name": "ipython",
    "version": 3
   },
   "file_extension": ".py",
   "mimetype": "text/x-python",
   "name": "python",
   "nbconvert_exporter": "python",
   "pygments_lexer": "ipython3",
   "version": "3.7.3"
  }
 },
 "nbformat": 4,
 "nbformat_minor": 2
}
