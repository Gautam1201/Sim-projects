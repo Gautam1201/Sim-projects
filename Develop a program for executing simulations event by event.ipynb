{
 "cells": [
  {
   "cell_type": "code",
   "execution_count": null,
   "metadata": {},
   "outputs": [],
   "source": [
    "import simpy\n",
    "\n",
    "class TrafficLight(object):\n",
    "    def __init__(self, env, red_time, yellow_time, green_time):\n",
    "        self.env = env\n",
    "        self.red_time = red_time\n",
    "        self.green_time = green_time\n",
    "        self.yellow_time = yellow_time\n",
    "        self.action = self.env.process(self.start())\n",
    "\n",
    "    def start(self):\n",
    "        while True: \n",
    "            print(\"red light at \", self.env.now)\n",
    "            yield self.env.timeout(self.red_time)\n",
    "            print(\"yellow light at \", self.env.now)\n",
    "            yield self.env.timeout(self.yellow_time)\n",
    "            print(\"Green light at \", self.env.now)\n",
    "            yield self.env.timeout(self.green_time)\n",
    "            print(\"yellow light at \", self.env.now)\n",
    "            yield self.env.timeout(self.yellow_time)\n",
    "\n",
    "env = simpy.Environment()\n",
    "red_time = input(\"Enter duration of red light: \")\n",
    "yellow_time = input(\"Enter duration of yellow light: \")\n",
    "green_time = input(\"Enter duration of green light: \")\n",
    "\n",
    "red_time = int(red_time)\n",
    "yellow_time = int(yellow_time)\n",
    "green_time = int(green_time)\n",
    "\n",
    "sim = TrafficLight(env, red_time, yellow_time, green_time)\n",
    "print(\"Press Enter to step to next event,\")\n",
    "print(\"Enter 'X' to stop\")\n",
    "print(\"\\n\")\n",
    "\n",
    "proceed = \"$\"\n",
    "while True:\n",
    "    env.step()\n",
    "    proceed = input(\"\")\n",
    "    if proceed == 'X':\n",
    "        break"
   ]
  },
  {
   "cell_type": "code",
   "execution_count": null,
   "metadata": {},
   "outputs": [],
   "source": []
  }
 ],
 "metadata": {
  "kernelspec": {
   "display_name": "Python 3",
   "language": "python",
   "name": "python3"
  },
  "language_info": {
   "codemirror_mode": {
    "name": "ipython",
    "version": 3
   },
   "file_extension": ".py",
   "mimetype": "text/x-python",
   "name": "python",
   "nbconvert_exporter": "python",
   "pygments_lexer": "ipython3",
   "version": "3.7.3"
  }
 },
 "nbformat": 4,
 "nbformat_minor": 2
}
